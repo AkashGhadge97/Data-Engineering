{
 "cells": [
  {
   "cell_type": "code",
   "execution_count": 2,
   "id": "4ae47cda",
   "metadata": {},
   "outputs": [
    {
     "name": "stdout",
     "output_type": "stream",
     "text": [
      "20\n",
      "30\n",
      "2030\n"
     ]
    }
   ],
   "source": [
    "num1 = input()     #20\n",
    "num2 = input()     #30\n",
    "ans = num1 + num2\n",
    "print(ans)"
   ]
  },
  {
   "cell_type": "code",
   "execution_count": 4,
   "id": "57a0f0cb",
   "metadata": {},
   "outputs": [
    {
     "data": {
      "text/plain": [
       "str"
      ]
     },
     "execution_count": 4,
     "metadata": {},
     "output_type": "execute_result"
    }
   ],
   "source": [
    "type(num1)"
   ]
  },
  {
   "cell_type": "code",
   "execution_count": 5,
   "id": "3684c2d5",
   "metadata": {},
   "outputs": [
    {
     "data": {
      "text/plain": [
       "str"
      ]
     },
     "execution_count": 5,
     "metadata": {},
     "output_type": "execute_result"
    }
   ],
   "source": [
    "type(num2)"
   ]
  },
  {
   "cell_type": "code",
   "execution_count": 6,
   "id": "4b597a9e",
   "metadata": {},
   "outputs": [
    {
     "ename": "TypeError",
     "evalue": "'set' object is not subscriptable",
     "output_type": "error",
     "traceback": [
      "\u001b[1;31m---------------------------------------------------------------------------\u001b[0m",
      "\u001b[1;31mTypeError\u001b[0m                                 Traceback (most recent call last)",
      "Input \u001b[1;32mIn [6]\u001b[0m, in \u001b[0;36m<cell line: 2>\u001b[1;34m()\u001b[0m\n\u001b[0;32m      1\u001b[0m a \u001b[38;5;241m=\u001b[39m {\u001b[38;5;241m1\u001b[39m,\u001b[38;5;241m2\u001b[39m,\u001b[38;5;241m3\u001b[39m,\u001b[38;5;241m4\u001b[39m,\u001b[38;5;241m5\u001b[39m}\n\u001b[1;32m----> 2\u001b[0m \u001b[43ma\u001b[49m\u001b[43m[\u001b[49m\u001b[38;5;241;43m2\u001b[39;49m\u001b[43m]\u001b[49m\n",
      "\u001b[1;31mTypeError\u001b[0m: 'set' object is not subscriptable"
     ]
    }
   ],
   "source": [
    "a = {1,2,3,4,5}\n",
    "a[2]"
   ]
  },
  {
   "cell_type": "code",
   "execution_count": 7,
   "id": "db2724f2",
   "metadata": {},
   "outputs": [
    {
     "data": {
      "text/plain": [
       "3"
      ]
     },
     "execution_count": 7,
     "metadata": {},
     "output_type": "execute_result"
    }
   ],
   "source": [
    "a= [1,2,3,4,5]\n",
    "a[2]"
   ]
  },
  {
   "cell_type": "code",
   "execution_count": 13,
   "id": "6b3b18e7",
   "metadata": {},
   "outputs": [
    {
     "name": "stdout",
     "output_type": "stream",
     "text": [
      "True\n",
      "True\n",
      "2526035209072 2526035209072\n"
     ]
    }
   ],
   "source": [
    "# shallow copy\n",
    "a, b = 19, 19\n",
    "print(a == b)\n",
    "print(a is b)\n",
    "print(id(a), id(b))"
   ]
  },
  {
   "cell_type": "code",
   "execution_count": null,
   "id": "e836dc6b",
   "metadata": {},
   "outputs": [],
   "source": [
    "# deep copy and shallow copy\n",
    "# deep copy --> the memeory address of the variables will be different\n",
    "# shallow copy --> the memory address of the varibales will be same"
   ]
  },
  {
   "cell_type": "code",
   "execution_count": 14,
   "id": "a2cddd0d",
   "metadata": {},
   "outputs": [
    {
     "name": "stdout",
     "output_type": "stream",
     "text": [
      "True\n",
      "False\n",
      "2526168537216 2526168438336\n"
     ]
    }
   ],
   "source": [
    "# deep copy\n",
    "a, b = [19], [19]\n",
    "print(a == b)\n",
    "print(a is b)\n",
    "print(id(a), id(b))"
   ]
  },
  {
   "cell_type": "code",
   "execution_count": 19,
   "id": "3e7b9391",
   "metadata": {},
   "outputs": [
    {
     "name": "stdout",
     "output_type": "stream",
     "text": [
      "100 100\n",
      "2144520066512 2144520066512\n"
     ]
    }
   ],
   "source": [
    "# shallow copy --> same memory address  (int, float, complex, str)\n",
    "\n",
    "import copy\n",
    "a = 100\n",
    "b = copy.copy(a)\n",
    "print(a, b)\n",
    "print(id(a), id(b))"
   ]
  },
  {
   "cell_type": "code",
   "execution_count": 15,
   "id": "18e941cd",
   "metadata": {},
   "outputs": [
    {
     "name": "stdout",
     "output_type": "stream",
     "text": [
      "[[19, 50], ['Vishal', 1]] [[19, 50], ['Vishal', 1]]\n",
      "2144632227584 2144632057792\n"
     ]
    }
   ],
   "source": [
    "# deep copy --> different memory address (list, tuple, dict)\n",
    "import copy\n",
    "a = [[19, 50], [\"Vishal\", 1]]\n",
    "b = copy.copy(a)\n",
    "print(a, b)\n",
    "print(id(a), id(b))"
   ]
  },
  {
   "cell_type": "code",
   "execution_count": 16,
   "id": "7aa14207",
   "metadata": {},
   "outputs": [
    {
     "name": "stdout",
     "output_type": "stream",
     "text": [
      "[[19, 50], ['Vishal', 1], ['Big Data']] [[19, 50], ['Vishal', 1]]\n"
     ]
    }
   ],
   "source": [
    "a.append([\"Big Data\"])\n",
    "print(a, b)"
   ]
  },
  {
   "cell_type": "markdown",
   "id": "23ad40af",
   "metadata": {},
   "source": [
    "### Largest of 3 numbers"
   ]
  },
  {
   "cell_type": "code",
   "execution_count": 20,
   "id": "f1c9501c",
   "metadata": {},
   "outputs": [
    {
     "name": "stdout",
     "output_type": "stream",
     "text": [
      "Enter first number34\n",
      "Enter second number56\n",
      "Enter third number17\n",
      "B is the greatest\n"
     ]
    }
   ],
   "source": [
    "a = int(input(\"Enter first number\"))\n",
    "b = int(input(\"Enter second number\"))\n",
    "c = int(input(\"Enter third number\"))\n",
    "if (a > b) :\n",
    "    if (a > c):\n",
    "        print(\"A is the gretest\")\n",
    "    else :\n",
    "        print(\"C is the greatest\")    \n",
    "else :\n",
    "    if (b > c):\n",
    "        print(\"B is the greatest\")\n",
    "    else :\n",
    "        print(\"C is the gretest\")\n"
   ]
  },
  {
   "cell_type": "code",
   "execution_count": 23,
   "id": "457f2e87",
   "metadata": {},
   "outputs": [
    {
     "name": "stdout",
     "output_type": "stream",
     "text": [
      "enter the first number:12\n",
      "enter the second number19\n",
      "enter the 3rd number19\n",
      "19 is greatest number\n"
     ]
    }
   ],
   "source": [
    "num1 =int(input('enter the first number:'))\n",
    "num2 =int(input('enter the second number'))\n",
    "num3 =int(input ('enter the 3rd number'))\n",
    "\n",
    "if (num1>num2) and (num1>num3):\n",
    "    print(num1,'greatest number')\n",
    "elif (num2>num1) and (num2>num3):\n",
    "    print(num2,'is greatest number')\n",
    "else:\n",
    "    print(num3,'is greatest number')\n"
   ]
  },
  {
   "cell_type": "markdown",
   "id": "a3e16321",
   "metadata": {},
   "source": [
    "### Prime or not"
   ]
  },
  {
   "cell_type": "code",
   "execution_count": 26,
   "id": "8f9ad376",
   "metadata": {},
   "outputs": [
    {
     "name": "stdout",
     "output_type": "stream",
     "text": [
      "4\n",
      "It is not a prime number\n",
      "It is a prime numbr\n"
     ]
    }
   ],
   "source": [
    "n=int(input())\n",
    "for i in range(2,n):\n",
    "    if n%i==0:\n",
    "        print('It is not a prime number')\n",
    "    else:\n",
    "        print('It is a prime numbr')\n"
   ]
  },
  {
   "cell_type": "code",
   "execution_count": 29,
   "id": "937e9706",
   "metadata": {},
   "outputs": [
    {
     "name": "stdout",
     "output_type": "stream",
     "text": [
      "19\n",
      "prime\n"
     ]
    }
   ],
   "source": [
    "n = int(input())\n",
    "flag = 0\n",
    "for i in range(2,n):\n",
    "    if n % i == 0:\n",
    "        print(\"not prime\")\n",
    "        break\n",
    "    else:\n",
    "        flag = 1\n",
    "if flag == 1:\n",
    "    print(\"prime\")\n"
   ]
  },
  {
   "cell_type": "code",
   "execution_count": 31,
   "id": "afbb82b4",
   "metadata": {},
   "outputs": [
    {
     "name": "stdout",
     "output_type": "stream",
     "text": [
      "enter any number: 6\n",
      "6 is not a prime number\n"
     ]
    }
   ],
   "source": [
    "count=0\n",
    "a=int(input(\"enter any number: \"))\n",
    "for i in range(1,a+1):\n",
    "    if a%i==0:\n",
    "        count+=1\n",
    "if count==2:\n",
    "    print(a ,\"is a prime number\")\n",
    "else:\n",
    "    print(a,\"is not a prime number\")\n"
   ]
  },
  {
   "cell_type": "code",
   "execution_count": 37,
   "id": "10625666",
   "metadata": {},
   "outputs": [
    {
     "name": "stdout",
     "output_type": "stream",
     "text": [
      "Enter a no to check: 97\n",
      "97 is prime number\n"
     ]
    }
   ],
   "source": [
    "from math import sqrt\n",
    "n = int(input(\"Enter a no to check: \"))\n",
    "\n",
    "if n == 1:\n",
    "    print(\"1 is neither a prime nor a composite\")\n",
    "elif n == 2:\n",
    "    print(f\"{n} is prime number\")\n",
    "elif n % 2 == 0:\n",
    "    print(f\"{n} is not a prime number\")\n",
    "else:\n",
    "    for i in range(2, int(sqrt(n))+1):\n",
    "        if n % i == 0:\n",
    "            print(f\"{n} is not a prime number\")\n",
    "            break\n",
    "    else:\n",
    "        print(f\"{n} is prime number\")"
   ]
  },
  {
   "cell_type": "code",
   "execution_count": 40,
   "id": "1a57c18d",
   "metadata": {},
   "outputs": [
    {
     "name": "stdout",
     "output_type": "stream",
     "text": [
      "false\n"
     ]
    }
   ],
   "source": [
    "def isprime(n):\n",
    "    if n==2 or n==1:\n",
    "        print('true')\n",
    "    else:\n",
    "        p=(2**n-1)%n\n",
    "        if p==1:\n",
    "            print ('true')\n",
    "        else:\n",
    "            print('false')\n",
    "\n",
    "isprime(1)"
   ]
  },
  {
   "cell_type": "code",
   "execution_count": 39,
   "id": "11113558",
   "metadata": {},
   "outputs": [
    {
     "name": "stdout",
     "output_type": "stream",
     "text": [
      "Enter first number to find prime88\n",
      "88 not Prime\n"
     ]
    }
   ],
   "source": [
    "a = int(input(\"Enter first number to find prime\"))\n",
    "isPrime = True\n",
    "if(a < 1) :\n",
    "    print(f\"{a} is not prime\")\n",
    "elif (a == 2):\n",
    "    print(f\"{a} is a prime\")\n",
    "else:\n",
    "    temp = 2\n",
    "    while (temp <= a/2):\n",
    "        if(a % temp == 0):\n",
    "            isPrime = False\n",
    "            break\n",
    "        temp = temp + 1\n",
    "if(isPrime):\n",
    "    print(f\"{a} is Prime\")\n",
    "else:\n",
    "    print(f\"{a} not Prime\")\n"
   ]
  },
  {
   "cell_type": "code",
   "execution_count": 44,
   "id": "d984eef2",
   "metadata": {},
   "outputs": [
    {
     "name": "stdout",
     "output_type": "stream",
     "text": [
      "49 - Prime Number\n"
     ]
    }
   ],
   "source": [
    "def prime_number(number):\n",
    "    n = number\n",
    "    if n==2:\n",
    "        return f'{n} - Prime Number'\n",
    "    elif (n>1) and (((n % 2 != 0) and (n % 3 != 0 and n % 5 != 0)) or (n / 3 == 1 or n / 5 == 1)):\n",
    "        return f'{n} - Prime Number'\n",
    "    else:\n",
    "        return f'{n} - Not Prime Number'\n",
    "\n",
    "print(prime_number(49))\n"
   ]
  },
  {
   "cell_type": "code",
   "execution_count": null,
   "id": "cf14fb09",
   "metadata": {},
   "outputs": [],
   "source": [
    "121 --> 121  --> Palindrome   dad mam madam\n",
    "123 --> 321  --> Not palindrome"
   ]
  },
  {
   "cell_type": "code",
   "execution_count": 47,
   "id": "289018ca",
   "metadata": {},
   "outputs": [
    {
     "name": "stdout",
     "output_type": "stream",
     "text": [
      "Enter any string :121\n",
      "121 is palindrome\n"
     ]
    },
    {
     "ename": "TypeError",
     "evalue": "can only concatenate str (not \"int\") to str",
     "output_type": "error",
     "traceback": [
      "\u001b[1;31m---------------------------------------------------------------------------\u001b[0m",
      "\u001b[1;31mTypeError\u001b[0m                                 Traceback (most recent call last)",
      "Input \u001b[1;32mIn [47]\u001b[0m, in \u001b[0;36m<cell line: 2>\u001b[1;34m()\u001b[0m\n\u001b[0;32m      2\u001b[0m \u001b[38;5;28;01mif\u001b[39;00m a \u001b[38;5;241m==\u001b[39m a[::\u001b[38;5;241m-\u001b[39m\u001b[38;5;241m1\u001b[39m]:\n\u001b[0;32m      3\u001b[0m     \u001b[38;5;28mprint\u001b[39m(a, \u001b[38;5;124m'\u001b[39m\u001b[38;5;124mis palindrome\u001b[39m\u001b[38;5;124m'\u001b[39m)\n\u001b[1;32m----> 4\u001b[0m     a \u001b[38;5;241m=\u001b[39m \u001b[43ma\u001b[49m\u001b[43m \u001b[49m\u001b[38;5;241;43m+\u001b[39;49m\u001b[43m \u001b[49m\u001b[38;5;241;43m10\u001b[39;49m\n\u001b[0;32m      5\u001b[0m \u001b[38;5;28;01melse\u001b[39;00m:\n\u001b[0;32m      6\u001b[0m     \u001b[38;5;28mprint\u001b[39m(a, \u001b[38;5;124m'\u001b[39m\u001b[38;5;124mis not palindrome\u001b[39m\u001b[38;5;124m'\u001b[39m)\n",
      "\u001b[1;31mTypeError\u001b[0m: can only concatenate str (not \"int\") to str"
     ]
    }
   ],
   "source": [
    "a = input('Enter any string :')\n",
    "if a == a[::-1]:\n",
    "    print(a, 'is palindrome')\n",
    "else:\n",
    "    print(a, 'is not palindrome')"
   ]
  },
  {
   "cell_type": "code",
   "execution_count": 49,
   "id": "81210ee3",
   "metadata": {},
   "outputs": [
    {
     "ename": "TypeError",
     "evalue": "'>' not supported between instances of 'str' and 'int'",
     "output_type": "error",
     "traceback": [
      "\u001b[1;31m---------------------------------------------------------------------------\u001b[0m",
      "\u001b[1;31mTypeError\u001b[0m                                 Traceback (most recent call last)",
      "Input \u001b[1;32mIn [49]\u001b[0m, in \u001b[0;36m<cell line: 13>\u001b[1;34m()\u001b[0m\n\u001b[0;32m     10\u001b[0m     \u001b[38;5;28;01melse\u001b[39;00m:\n\u001b[0;32m     11\u001b[0m         \u001b[38;5;28mprint\u001b[39m(\u001b[38;5;124m\"\u001b[39m\u001b[38;5;124mNot pallindrome\u001b[39m\u001b[38;5;124m\"\u001b[39m)\n\u001b[1;32m---> 13\u001b[0m \u001b[43mispallindrome\u001b[49m\u001b[43m(\u001b[49m\u001b[38;5;124;43m\"\u001b[39;49m\u001b[38;5;124;43mdad\u001b[39;49m\u001b[38;5;124;43m\"\u001b[39;49m\u001b[43m)\u001b[49m\n",
      "Input \u001b[1;32mIn [49]\u001b[0m, in \u001b[0;36mispallindrome\u001b[1;34m(n)\u001b[0m\n\u001b[0;32m      2\u001b[0m temp\u001b[38;5;241m=\u001b[39mn\n\u001b[0;32m      3\u001b[0m r\u001b[38;5;241m=\u001b[39m\u001b[38;5;241m0\u001b[39m\n\u001b[1;32m----> 4\u001b[0m \u001b[38;5;28;01mwhile\u001b[39;00m(\u001b[43mtemp\u001b[49m\u001b[38;5;241;43m>\u001b[39;49m\u001b[38;5;241;43m0\u001b[39;49m):\n\u001b[0;32m      5\u001b[0m     d\u001b[38;5;241m=\u001b[39mtemp\u001b[38;5;241m%\u001b[39m\u001b[38;5;241m10\u001b[39m\n\u001b[0;32m      6\u001b[0m     r\u001b[38;5;241m=\u001b[39mr\u001b[38;5;241m*\u001b[39m\u001b[38;5;241m10\u001b[39m\u001b[38;5;241m+\u001b[39md\n",
      "\u001b[1;31mTypeError\u001b[0m: '>' not supported between instances of 'str' and 'int'"
     ]
    }
   ],
   "source": [
    "def ispallindrome(n):\n",
    "    temp=n\n",
    "    r=0\n",
    "    while(temp>0):\n",
    "        d=temp%10\n",
    "        r=r*10+d\n",
    "        temp=temp//10\n",
    "    if(r==n):\n",
    "        print(\"Pallindrome\")\n",
    "    else:\n",
    "        print(\"Not pallindrome\")\n",
    "  \n",
    "ispallindrome(\"dad\")\n"
   ]
  },
  {
   "cell_type": "code",
   "execution_count": 55,
   "id": "45e70c04",
   "metadata": {},
   "outputs": [
    {
     "ename": "NameError",
     "evalue": "name 'num_str' is not defined",
     "output_type": "error",
     "traceback": [
      "\u001b[1;31m---------------------------------------------------------------------------\u001b[0m",
      "\u001b[1;31mNameError\u001b[0m                                 Traceback (most recent call last)",
      "Input \u001b[1;32mIn [55]\u001b[0m, in \u001b[0;36m<cell line: 7>\u001b[1;34m()\u001b[0m\n\u001b[0;32m      5\u001b[0m is_palindrome(\u001b[38;5;241m123\u001b[39m)\n\u001b[0;32m      7\u001b[0m \u001b[38;5;28;01mif\u001b[39;00m is_palindrome(\u001b[38;5;124m\"\u001b[39m\u001b[38;5;124mdad\u001b[39m\u001b[38;5;124m\"\u001b[39m):\n\u001b[1;32m----> 8\u001b[0m     \u001b[38;5;28mprint\u001b[39m(\u001b[43mnum_str\u001b[49m \u001b[38;5;241m+\u001b[39m \u001b[38;5;241m10\u001b[39m)\n",
      "\u001b[1;31mNameError\u001b[0m: name 'num_str' is not defined"
     ]
    }
   ],
   "source": [
    "def is_palindrome(num):\n",
    "    num_str = str(num)\n",
    "    return num_str == num_str[::-1]\n",
    "\n",
    "is_palindrome(123)\n",
    "\n",
    "if is_palindrome(\"dad\"):\n",
    "    print(num_str + 10)"
   ]
  },
  {
   "cell_type": "code",
   "execution_count": 57,
   "id": "44408902",
   "metadata": {},
   "outputs": [
    {
     "name": "stdout",
     "output_type": "stream",
     "text": [
      "eneter the input121\n",
      "1.String pallidrome 2.Intergerpallindrome2\n",
      "Pallindrome\n"
     ]
    }
   ],
   "source": [
    "def stringpallindrome(n):\n",
    "    if(n==n[::-1]):\n",
    "        print(\"Pallindrome\")\n",
    "    else:\n",
    "        print(\"Not pallindrome\")\n",
    "def ispallindrome(n):\n",
    "    temp=n\n",
    "    r=0\n",
    "    while(temp>0):\n",
    "        d=temp%10\n",
    "        r=r*10+d\n",
    "        temp=temp//10\n",
    "    if(r==n):\n",
    "        print(\"Pallindrome\")\n",
    "    else:\n",
    "        print(\"Not pallindrome\")\n",
    "  \n",
    "\n",
    "n = input(\"eneter the input\")\n",
    "ip=input(\"1.String pallidrome 2.Intergerpallindrome\")\n",
    "if(ip==\"1\"):\n",
    "    stringpallindrome(n)\n",
    "if(ip==\"2\"):\n",
    "    b=int(n)\n",
    "    ispallindrome(b)\n"
   ]
  },
  {
   "cell_type": "code",
   "execution_count": 63,
   "id": "343af17f",
   "metadata": {},
   "outputs": [
    {
     "name": "stdout",
     "output_type": "stream",
     "text": [
      "enter the string :sis\n"
     ]
    },
    {
     "data": {
      "text/plain": [
       "'yes!!, it is a polyndrome'"
      ]
     },
     "execution_count": 63,
     "metadata": {},
     "output_type": "execute_result"
    }
   ],
   "source": [
    "def is_polyndrome():\n",
    "    string = str(input(\"enter the string :\"))\n",
    "    n = len(string)\n",
    "    for i in range(0,int((n-1)/2)):\n",
    "        if string[i] != string[(n-1)-i]:\n",
    "            return (\"No!! it is not a polyndrome\")\n",
    "        else:\n",
    "            return (\"yes!!, it is a polyndrome\")\n",
    "\n",
    "is_polyndrome()\n"
   ]
  },
  {
   "cell_type": "code",
   "execution_count": 68,
   "id": "ba7c7ce8",
   "metadata": {},
   "outputs": [
    {
     "name": "stdout",
     "output_type": "stream",
     "text": [
      "Enter a number: 1634\n",
      "1634 is a armstrong number\n"
     ]
    }
   ],
   "source": [
    "x=int(input(\"Enter a number: \"))\n",
    "summ=0\n",
    "le=len(str(x))\n",
    "tmp=x\n",
    "while x>0:\n",
    "    digit=x%10\n",
    "    summ+=digit**le\n",
    "    x//=10\n",
    "if(summ==tmp):\n",
    "    print(\"{} is a armstrong number\".format(tmp))\n",
    "else:\n",
    "    print(\"not\")\n"
   ]
  },
  {
   "cell_type": "code",
   "execution_count": 71,
   "id": "4bf9ed12",
   "metadata": {},
   "outputs": [
    {
     "name": "stdout",
     "output_type": "stream",
     "text": [
      "False\n"
     ]
    }
   ],
   "source": [
    "def is_armstrong(num):\n",
    "    num_str = str(num)\n",
    "    num_len = len(num_str)\n",
    "    sum_ = 0\n",
    "    for digit in num_str:\n",
    "        sum_ += int(digit) ** num_len\n",
    "    return sum_ == num\n",
    "print(is_armstrong(999))\n"
   ]
  },
  {
   "cell_type": "code",
   "execution_count": 75,
   "id": "ecdbe124",
   "metadata": {},
   "outputs": [
    {
     "name": "stdout",
     "output_type": "stream",
     "text": [
      "13\n"
     ]
    }
   ],
   "source": [
    "a = 'This is a Big Data class from iNeuron A'\n",
    "vowel = ['a','e','i','o','u']\n",
    "c = 0\n",
    "for i in a:\n",
    "    if i.lower() in vowel:\n",
    "        c += 1\n",
    "print(c)\n"
   ]
  },
  {
   "cell_type": "code",
   "execution_count": 74,
   "id": "41fd015e",
   "metadata": {},
   "outputs": [
    {
     "data": {
      "text/plain": [
       "'i'"
      ]
     },
     "execution_count": 74,
     "metadata": {},
     "output_type": "execute_result"
    }
   ],
   "source": [
    "def count_vowel(sentence):\n",
    "    for i in sentence:\n",
    "        for j in ['a', 'e', 'i', 'o', 'u']:\n",
    "            if j == i:\n",
    "                return j\n",
    "count_vowel('This is a Big Data class from iNeuron A')"
   ]
  },
  {
   "cell_type": "code",
   "execution_count": 76,
   "id": "c0bf3291",
   "metadata": {},
   "outputs": [
    {
     "name": "stdout",
     "output_type": "stream",
     "text": [
      "25\n"
     ]
    }
   ],
   "source": [
    "def count_primes(start, end):\n",
    "    count = 0\n",
    "    for num in range(start, end + 1):\n",
    "        if is_prime(num):\n",
    "            count += 1\n",
    "    return count\n",
    "\n",
    "def is_prime(num):\n",
    "    if num < 2:\n",
    "        return False\n",
    "    for i in range(2, num):\n",
    "        if num % i == 0:\n",
    "            return False\n",
    "    return True\n",
    "\n",
    "print(count_primes(1, 100))\n"
   ]
  },
  {
   "cell_type": "code",
   "execution_count": null,
   "id": "89bed6a2",
   "metadata": {},
   "outputs": [],
   "source": []
  }
 ],
 "metadata": {
  "kernelspec": {
   "display_name": "Python 3 (ipykernel)",
   "language": "python",
   "name": "python3"
  },
  "language_info": {
   "codemirror_mode": {
    "name": "ipython",
    "version": 3
   },
   "file_extension": ".py",
   "mimetype": "text/x-python",
   "name": "python",
   "nbconvert_exporter": "python",
   "pygments_lexer": "ipython3",
   "version": "3.9.12"
  }
 },
 "nbformat": 4,
 "nbformat_minor": 5
}
