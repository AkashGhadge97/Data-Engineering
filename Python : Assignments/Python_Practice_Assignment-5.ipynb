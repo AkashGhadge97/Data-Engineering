{
 "cells": [
  {
   "cell_type": "markdown",
   "id": "4ac9602a",
   "metadata": {},
   "source": [
    "## Python Basic Programming Assignment - 5\n",
    "--------------\n"
   ]
  },
  {
   "cell_type": "markdown",
   "id": "fdaeee06",
   "metadata": {},
   "source": [
    "### 1. Write a Python Program to Find LCM?"
   ]
  },
  {
   "cell_type": "code",
   "execution_count": 3,
   "id": "2bbfde05",
   "metadata": {},
   "outputs": [
    {
     "name": "stdin",
     "output_type": "stream",
     "text": [
      "Enter first number: 45\n",
      "Enter second number: 9\n"
     ]
    },
    {
     "name": "stdout",
     "output_type": "stream",
     "text": [
      "LCM : 45\n"
     ]
    }
   ],
   "source": [
    "num1 = int (input('Enter first number:'))\n",
    "num2 = int (input('Enter second number:'))\n",
    "\n",
    "if(num1 % num2  == 0):\n",
    "    print('LCM :',num1)\n",
    "elif (num2 % num1 == 0):\n",
    "    print('LCM :',num2)\n",
    "else:\n",
    "    if(num1>num2):\n",
    "        i=1\n",
    "        while(num2 < num1):\n",
    "            if((num1*i)%num2 == 0):\n",
    "                print('LCM :' , (num1*i))\n",
    "                break\n",
    "    else:\n",
    "        i=1\n",
    "        while(num1 < num2):\n",
    "            if((num2*i)%num1 == 0):\n",
    "                print('LCM :' , (num2*i))\n",
    "                break\n",
    "            i=i+1\n",
    "        "
   ]
  },
  {
   "cell_type": "markdown",
   "id": "2f459cdf",
   "metadata": {},
   "source": [
    "---------------------\n",
    "### 2. Write a Python Program to Find HCF?"
   ]
  },
  {
   "cell_type": "code",
   "execution_count": 8,
   "id": "ca13cf0c",
   "metadata": {},
   "outputs": [
    {
     "name": "stdin",
     "output_type": "stream",
     "text": [
      "Enter first number: 50\n",
      "Enter second number: 75\n"
     ]
    },
    {
     "name": "stdout",
     "output_type": "stream",
     "text": [
      "HCF : 25\n"
     ]
    }
   ],
   "source": [
    "num1 = int (input('Enter first number:'))\n",
    "num2 = int (input('Enter second number:'))\n",
    "\n",
    "if(num1 % num2  == 0):\n",
    "    print('HCF :',num2)\n",
    "elif (num2 % num1 == 0):\n",
    "    print('HCF :',num1)\n",
    "else:\n",
    "    if(num1>num2):\n",
    "        i=num2\n",
    "        while(1):\n",
    "            if((num1%i ==0) and (num2%i) == 0):\n",
    "                print('HCF :' , i)\n",
    "                break\n",
    "            i=i-1\n",
    "    else:\n",
    "        i=num1\n",
    "        while(1):\n",
    "            if((num1%i ==0) and (num2%i) == 0):\n",
    "                print('HCF :' , i)\n",
    "                break\n",
    "            i=i-1\n",
    "        "
   ]
  },
  {
   "cell_type": "markdown",
   "id": "d2c29370",
   "metadata": {},
   "source": [
    "---------------\n",
    "### 3. Write a Python Program to Convert Decimal to Binary, Octal and Hexadecimal?"
   ]
  },
  {
   "cell_type": "code",
   "execution_count": null,
   "id": "f9fac93a",
   "metadata": {},
   "outputs": [],
   "source": [
    "num = int (input('Enter a decimal number:'))\n",
    "print('Binary : ', bin(num))\n",
    "print('Octal : ', oct(num))\n",
    "print('Hexadecimal : ',hex(num))"
   ]
  },
  {
   "cell_type": "markdown",
   "id": "2a16c5fd",
   "metadata": {},
   "source": [
    "---------------------\n",
    "### 4. Write a Python Program To Find ASCII value of a character?"
   ]
  },
  {
   "cell_type": "code",
   "execution_count": 12,
   "id": "c5164be3",
   "metadata": {},
   "outputs": [
    {
     "name": "stdin",
     "output_type": "stream",
     "text": [
      "Enter a character : @\n"
     ]
    },
    {
     "name": "stdout",
     "output_type": "stream",
     "text": [
      "ASCII value of @ is 64\n"
     ]
    }
   ],
   "source": [
    "character =  input('Enter a character :')\n",
    "print('ASCII value of',character,'is',ord(character))"
   ]
  },
  {
   "cell_type": "markdown",
   "id": "226778a0",
   "metadata": {},
   "source": [
    "----------------\n",
    "### 5. Write a Python Program to Make a Simple Calculator with 4 basic mathematical operations?"
   ]
  },
  {
   "cell_type": "code",
   "execution_count": null,
   "id": "4d0c1a4d",
   "metadata": {},
   "outputs": [],
   "source": [
    "num1 = int (input('Enter first number:'))\n",
    "num2 = int (input('Enter second number:'))\n",
    "\n",
    "print('\\n\\nFor addition , Press +')\n",
    "print('For subtraction , Press -')\n",
    "print('For multiplication , Press *')\n",
    "print('For division , Press /')\n",
    "print('For Exit , Press X')\n",
    "\n",
    "operation = input('\\n\\nEnter the operation :')\n",
    "\n",
    "if( operation == '+'):\n",
    "    print('\\nAddition :', num1+num2)\n",
    "elif (operation == '-'):\n",
    "    print('\\nSubtraction :', num1-num2)\n",
    "elif (operation == \"*\"):\n",
    "    print('\\nMultiplication :', num1*num2)\n",
    "elif (operation == '/'):\n",
    "    print('\\nDivision :', num1/num2)"
   ]
  }
 ],
 "metadata": {
  "kernelspec": {
   "display_name": "Python 3 (ipykernel)",
   "language": "python",
   "name": "python3"
  },
  "language_info": {
   "codemirror_mode": {
    "name": "ipython",
    "version": 3
   },
   "file_extension": ".py",
   "mimetype": "text/x-python",
   "name": "python",
   "nbconvert_exporter": "python",
   "pygments_lexer": "ipython3",
   "version": "3.10.6"
  }
 },
 "nbformat": 4,
 "nbformat_minor": 5
}
