{
 "cells": [
  {
   "cell_type": "markdown",
   "id": "3dcb940f",
   "metadata": {},
   "source": [
    "## Python Basic Programming Assignment 10"
   ]
  },
  {
   "cell_type": "markdown",
   "id": "6720790a",
   "metadata": {},
   "source": [
    "### 1. Write a Python program to find sum of elements in list?"
   ]
  },
  {
   "cell_type": "code",
   "execution_count": 1,
   "id": "533f67cc",
   "metadata": {},
   "outputs": [
    {
     "name": "stdout",
     "output_type": "stream",
     "text": [
      "27\n"
     ]
    }
   ],
   "source": [
    "lst = [2,3,4,5,6,7]\n",
    "print(sum(lst))"
   ]
  },
  {
   "cell_type": "code",
   "execution_count": 2,
   "id": "5feab99a-657e-4d87-a6d1-e23444ab13d5",
   "metadata": {},
   "outputs": [
    {
     "name": "stdout",
     "output_type": "stream",
     "text": [
      "27\n"
     ]
    }
   ],
   "source": [
    "lst = [2,3,4,5,6,7]\n",
    "sum=0\n",
    "for i in lst:\n",
    "    sum+=i\n",
    "print(sum)"
   ]
  },
  {
   "cell_type": "markdown",
   "id": "fe1137c3",
   "metadata": {},
   "source": [
    "### 2. Write a Python program to  Multiply all numbers in the list?"
   ]
  },
  {
   "cell_type": "code",
   "execution_count": 3,
   "id": "fe22cfb0",
   "metadata": {},
   "outputs": [
    {
     "name": "stdout",
     "output_type": "stream",
     "text": [
      "5040\n"
     ]
    }
   ],
   "source": [
    "lst = [2,3,4,5,6,7]\n",
    "total=1\n",
    "for i in lst:\n",
    "    total*=i\n",
    "print(total)"
   ]
  },
  {
   "cell_type": "markdown",
   "id": "078681db",
   "metadata": {},
   "source": [
    "### 3. Write a Python program to find smallest number in a list?"
   ]
  },
  {
   "cell_type": "code",
   "execution_count": 5,
   "id": "2ca471f8",
   "metadata": {},
   "outputs": [
    {
     "name": "stdout",
     "output_type": "stream",
     "text": [
      "Smallest Element : -6\n"
     ]
    }
   ],
   "source": [
    "lst = [20,13,4,50,-6,7]\n",
    "lst.sort()\n",
    "print('Smallest Element :', lst[0])"
   ]
  },
  {
   "cell_type": "markdown",
   "id": "12b04397",
   "metadata": {},
   "source": [
    "### 4. Write a Python program to find largest number in a list?"
   ]
  },
  {
   "cell_type": "code",
   "execution_count": 6,
   "id": "76437f44",
   "metadata": {},
   "outputs": [
    {
     "name": "stdout",
     "output_type": "stream",
     "text": [
      "Largest Element : 50\n"
     ]
    }
   ],
   "source": [
    "lst = [20,13,4,50,-6,7]\n",
    "lst.sort()\n",
    "print('Largest Element :', lst[-1])"
   ]
  },
  {
   "cell_type": "markdown",
   "id": "86442b51",
   "metadata": {},
   "source": [
    "### 5. Write a Python program to find second largest number in a list?"
   ]
  },
  {
   "cell_type": "code",
   "execution_count": 7,
   "id": "4c58e34a",
   "metadata": {},
   "outputs": [
    {
     "name": "stdout",
     "output_type": "stream",
     "text": [
      "Second Largest Element : 20\n"
     ]
    }
   ],
   "source": [
    "lst = [20,13,4,50,-6,7]\n",
    "lst.sort()\n",
    "print('Second Largest Element :', lst[-2])"
   ]
  },
  {
   "cell_type": "markdown",
   "id": "10964d7d",
   "metadata": {},
   "source": [
    "### 6. Write a Python program to find N largest elements from a list?"
   ]
  },
  {
   "cell_type": "code",
   "execution_count": 13,
   "id": "6dbaef03",
   "metadata": {},
   "outputs": [
    {
     "data": {
      "text/plain": [
       "67"
      ]
     },
     "execution_count": 13,
     "metadata": {},
     "output_type": "execute_result"
    }
   ],
   "source": [
    "def findLargest(lst,n):\n",
    "    lst.sort(reverse=True)\n",
    "    return lst[n-1]\n",
    "lst = [12,113,245,-4,23,67]\n",
    "\n",
    "#3rd largest Element\n",
    "findLargest(lst,3)"
   ]
  },
  {
   "cell_type": "code",
   "execution_count": 14,
   "id": "024f6884",
   "metadata": {},
   "outputs": [
    {
     "data": {
      "text/plain": [
       "245"
      ]
     },
     "execution_count": 14,
     "metadata": {},
     "output_type": "execute_result"
    }
   ],
   "source": [
    "#1st largest Element\n",
    "findLargest(lst,1)"
   ]
  },
  {
   "cell_type": "markdown",
   "id": "2f1a1e98",
   "metadata": {},
   "source": [
    "### 7. Write a Python program to print even numbers in a list?"
   ]
  },
  {
   "cell_type": "code",
   "execution_count": 15,
   "id": "3d732576",
   "metadata": {},
   "outputs": [
    {
     "data": {
      "text/plain": [
       "[2, 4, 6, 8, 10, 12]"
      ]
     },
     "execution_count": 15,
     "metadata": {},
     "output_type": "execute_result"
    }
   ],
   "source": [
    "lst = [1,2,3,4,5,6,7,8,9,10,11,12]\n",
    "[i for i in lst if i%2 == 0]"
   ]
  },
  {
   "cell_type": "markdown",
   "id": "989bb324",
   "metadata": {},
   "source": [
    "### 8. Write a Python program to print odd numbers in a List?"
   ]
  },
  {
   "cell_type": "code",
   "execution_count": 16,
   "id": "a314aada",
   "metadata": {},
   "outputs": [
    {
     "data": {
      "text/plain": [
       "[1, 3, 5, 7, 9, 11]"
      ]
     },
     "execution_count": 16,
     "metadata": {},
     "output_type": "execute_result"
    }
   ],
   "source": [
    "lst = [1,2,3,4,5,6,7,8,9,10,11,12]\n",
    "[i for i in lst if i%2 == 1]"
   ]
  },
  {
   "cell_type": "markdown",
   "id": "185b7b13",
   "metadata": {},
   "source": [
    "### 9. Write a Python program to Remove empty List from List?"
   ]
  },
  {
   "cell_type": "code",
   "execution_count": 26,
   "id": "9437d81b",
   "metadata": {},
   "outputs": [
    {
     "name": "stdout",
     "output_type": "stream",
     "text": [
      "[1, 3, [3, 4, 5], 5, [7, 8, 9], 10]\n"
     ]
    }
   ],
   "source": [
    "lst = [1,[],3,[3,4,5],5,[],[7,8,9],10,[],[]]\n",
    "result=[]\n",
    "for i in lst:\n",
    "    if(type(i) == type(result) and len(i) == 0):\n",
    "        continue\n",
    "    else:\n",
    "        result.append(i)\n",
    "print(result)"
   ]
  },
  {
   "cell_type": "markdown",
   "id": "278cfacc",
   "metadata": {},
   "source": [
    "### 10. Write a Python program to Cloning or Copying a list?"
   ]
  },
  {
   "cell_type": "code",
   "execution_count": 27,
   "id": "670afc25",
   "metadata": {},
   "outputs": [
    {
     "name": "stdout",
     "output_type": "stream",
     "text": [
      "[1, 2, 3, 4, 5, 56, 46, 78, 9]\n"
     ]
    }
   ],
   "source": [
    "lst = [1,2,3,4,5,56,46,78,9]\n",
    "newLst = lst\n",
    "print(newLst)"
   ]
  },
  {
   "cell_type": "code",
   "execution_count": 29,
   "id": "8610009b-9dc4-409f-8eec-0870b1c0c2d7",
   "metadata": {},
   "outputs": [
    {
     "name": "stdout",
     "output_type": "stream",
     "text": [
      "[1, 2, 3, 4, 5, 56, 46, 78, 9]\n"
     ]
    }
   ],
   "source": [
    "lst = [1,2,3,4,5,56,46,78,9]\n",
    "newLst = []\n",
    "for i in lst:\n",
    "    newLst.append(i)\n",
    "print(newLst)"
   ]
  },
  {
   "cell_type": "markdown",
   "id": "b359bedf",
   "metadata": {},
   "source": [
    "### 11. Write a Python program to Count occurrences of an element in a list?"
   ]
  },
  {
   "cell_type": "code",
   "execution_count": 32,
   "id": "fcebaa59",
   "metadata": {},
   "outputs": [
    {
     "name": "stdout",
     "output_type": "stream",
     "text": [
      "Occurrences of 3: 3\n",
      "Occurrences of 5: 2\n"
     ]
    }
   ],
   "source": [
    "def countOccurrences(lst,num):\n",
    "    count=0\n",
    "    for i in lst:\n",
    "        if (i == num):\n",
    "            count+=1\n",
    "    return count\n",
    "\n",
    "lst = [1,2,3,3,4,5,6,3,2,4,5,6,7,8]\n",
    "print('Occurrences of 3:',countOccurrences(lst,3))\n",
    "print('Occurrences of 5:',countOccurrences(lst,5))\n"
   ]
  }
 ],
 "metadata": {
  "kernelspec": {
   "display_name": "Python 3 (ipykernel)",
   "language": "python",
   "name": "python3"
  },
  "language_info": {
   "codemirror_mode": {
    "name": "ipython",
    "version": 3
   },
   "file_extension": ".py",
   "mimetype": "text/x-python",
   "name": "python",
   "nbconvert_exporter": "python",
   "pygments_lexer": "ipython3",
   "version": "3.10.6"
  }
 },
 "nbformat": 4,
 "nbformat_minor": 5
}
