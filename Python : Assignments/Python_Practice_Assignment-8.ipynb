{
 "cells": [
  {
   "cell_type": "markdown",
   "id": "9b304197",
   "metadata": {},
   "source": [
    "# Python Basic Programming Assignment 8"
   ]
  },
  {
   "cell_type": "markdown",
   "id": "22789ae6",
   "metadata": {},
   "source": [
    "-------------\n",
    "### 1. Write a Python Program to Add Two Matrices?\n"
   ]
  },
  {
   "cell_type": "code",
   "execution_count": 2,
   "id": "f26dd3f3",
   "metadata": {},
   "outputs": [
    {
     "name": "stdout",
     "output_type": "stream",
     "text": [
      "Addition of two matrices is : [[10, 15, 29], [15, 8, 9], [10, 9, 14]]\n"
     ]
    }
   ],
   "source": [
    "mat1 = [[2,3,4],[5,6,4],[6,7,8]]\n",
    "mat2 = [[8,12,25],[10,2,5],[4,2,6]]\n",
    "result = []\n",
    "for i in range(0,len(mat1)):\n",
    "    row =[]\n",
    "    for j in range(0,len(mat1[i])):\n",
    "        row.append(mat1[i][j] + mat2[i][j])\n",
    "    result.append(row)\n",
    "print('Addition of two matrices is :', result)"
   ]
  },
  {
   "cell_type": "markdown",
   "id": "044ceda6",
   "metadata": {},
   "source": [
    "-------------\n",
    "### 2. Write a Python Program to Multiply Two Matrices?"
   ]
  },
  {
   "cell_type": "code",
   "execution_count": 7,
   "id": "334d6268",
   "metadata": {},
   "outputs": [
    {
     "name": "stdout",
     "output_type": "stream",
     "text": [
      "Multiplication of two matrices is :  [[62, 38, 89], [116, 80, 179], [150, 102, 233]]\n"
     ]
    }
   ],
   "source": [
    "mat1 = [[2,3,4],\n",
    "        [5,6,4],\n",
    "        [6,7,8]]\n",
    "\n",
    "mat2 = [[8,12,25],\n",
    "        [10,2,5],\n",
    "        [4,2,6] ]\n",
    "result = []\n",
    "\n",
    "for i in range (0,len(mat1)):\n",
    "    counter = 0\n",
    "    row= []\n",
    "    for j in range(0,len(mat1)):\n",
    "        sum = 0\n",
    "        for k in range(0, len(mat1)):\n",
    "            sum += (mat1[i][k] * mat2 [k][counter])\n",
    "        row.append(sum)\n",
    "        counter+=1\n",
    "    result.append(row)\n",
    "    \n",
    "print('Multiplication of two matrices is : ', result)    "
   ]
  },
  {
   "cell_type": "markdown",
   "id": "5f688e46",
   "metadata": {},
   "source": [
    "-------------\n",
    "### 3. Write a Python Program to Transpose a Matrix?"
   ]
  },
  {
   "cell_type": "code",
   "execution_count": 10,
   "id": "a6af3f54",
   "metadata": {},
   "outputs": [
    {
     "name": "stdout",
     "output_type": "stream",
     "text": [
      "Transponse of given matrix :  [[1, 4, 7], [2, 5, 8], [3, 6, 9]]\n"
     ]
    }
   ],
   "source": [
    "mat = [ [1,2,3],\n",
    "        [4,5,6],\n",
    "        [7,8,9] ]\n",
    "result = []\n",
    "\n",
    "for i in range(0,len(mat)):\n",
    "    row=[]\n",
    "    for j in range(0,len(mat)):\n",
    "        row.append(mat[j][i])\n",
    "    result.append(row)\n",
    "print('Transponse of given matrix : ',result)"
   ]
  },
  {
   "cell_type": "markdown",
   "id": "b2849025",
   "metadata": {},
   "source": [
    "------------------\n",
    "### 4. Write a Python Program to Sort Words in Alphabetic Order?\n"
   ]
  },
  {
   "cell_type": "code",
   "execution_count": 14,
   "id": "c030bfb6",
   "metadata": {},
   "outputs": [
    {
     "name": "stdin",
     "output_type": "stream",
     "text": [
      "Enter a sentence : Akash is a good boy\n"
     ]
    },
    {
     "name": "stdout",
     "output_type": "stream",
     "text": [
      "Akash a boy good is "
     ]
    }
   ],
   "source": [
    "sentencc =  input('Enter a sentence :')\n",
    "words = sentencc.split(' ')\n",
    "words.sort()\n",
    "for i in words:\n",
    "    print(i, end = ' ')"
   ]
  },
  {
   "cell_type": "markdown",
   "id": "48ac7b24",
   "metadata": {},
   "source": [
    "-----------------\n",
    "### 5. Write a Python Program to Remove Punctuation From a String?"
   ]
  },
  {
   "cell_type": "code",
   "execution_count": 15,
   "id": "6c7b2c63",
   "metadata": {},
   "outputs": [
    {
     "name": "stdin",
     "output_type": "stream",
     "text": [
      "Enter a string: Akash is <a> good boy. He's #$% smart.\n"
     ]
    },
    {
     "name": "stdout",
     "output_type": "stream",
     "text": [
      "Akash is a good boy Hes  smart\n"
     ]
    }
   ],
   "source": [
    "punctuations = '''!()-[]{};:'\"\\,<>./?@#$%^&*_~'''\n",
    "inputString = input ('Enter a string:')\n",
    "outputString=''\n",
    "\n",
    "for i in inputString:\n",
    "    if i not in punctuations:\n",
    "        outputString+=i\n",
    "\n",
    "print(outputString)\n",
    "        "
   ]
  }
 ],
 "metadata": {
  "kernelspec": {
   "display_name": "Python 3 (ipykernel)",
   "language": "python",
   "name": "python3"
  },
  "language_info": {
   "codemirror_mode": {
    "name": "ipython",
    "version": 3
   },
   "file_extension": ".py",
   "mimetype": "text/x-python",
   "name": "python",
   "nbconvert_exporter": "python",
   "pygments_lexer": "ipython3",
   "version": "3.10.6"
  }
 },
 "nbformat": 4,
 "nbformat_minor": 5
}
