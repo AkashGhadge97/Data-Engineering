{
 "cells": [
  {
   "cell_type": "markdown",
   "id": "35297a20",
   "metadata": {},
   "source": [
    "## Programming Basic Assignment 7"
   ]
  },
  {
   "cell_type": "markdown",
   "id": "27349114",
   "metadata": {},
   "source": [
    "------------------\n",
    "### 1. Write a Python Program to find sum of array?\n"
   ]
  },
  {
   "cell_type": "code",
   "execution_count": 1,
   "id": "cfaf637b",
   "metadata": {},
   "outputs": [
    {
     "name": "stdout",
     "output_type": "stream",
     "text": [
      "Sum of array: 220\n"
     ]
    }
   ],
   "source": [
    "lst = [10,120,15,30,45]\n",
    "sum = 0\n",
    "for i in lst:\n",
    "    sum+=i\n",
    "print('Sum of array:',sum)"
   ]
  },
  {
   "cell_type": "markdown",
   "id": "171a980d",
   "metadata": {},
   "source": [
    "-----------------\n",
    "### 2. Write a Python Program to find largest element in an array?\n"
   ]
  },
  {
   "cell_type": "code",
   "execution_count": 2,
   "id": "87fe5169",
   "metadata": {},
   "outputs": [
    {
     "name": "stdout",
     "output_type": "stream",
     "text": [
      "Max element from array: 120\n"
     ]
    }
   ],
   "source": [
    "lst = [10,120,15,30,45]\n",
    "max = 0\n",
    "for i in lst:\n",
    "    if(i > max):\n",
    "        max = i\n",
    "print('Max element from array:',max)\n"
   ]
  },
  {
   "cell_type": "markdown",
   "id": "21613246",
   "metadata": {},
   "source": [
    "----------------\n",
    "### 3. Write a Python Program for array rotation?"
   ]
  },
  {
   "cell_type": "code",
   "execution_count": 3,
   "id": "ce2027d5",
   "metadata": {
    "scrolled": true
   },
   "outputs": [
    {
     "name": "stdout",
     "output_type": "stream",
     "text": [
      "Rotatated array : [45, 30, 15, 120, 10]\n"
     ]
    }
   ],
   "source": [
    "lst = [10,120,15,30,45]\n",
    "print('Rotatated array :',lst[::-1])"
   ]
  },
  {
   "cell_type": "markdown",
   "id": "3e52d939",
   "metadata": {},
   "source": [
    "-------------\n",
    "### 4. Write a Python Program to Split the array and add the first part to the end?\n"
   ]
  },
  {
   "cell_type": "code",
   "execution_count": 14,
   "id": "1bb79098",
   "metadata": {},
   "outputs": [
    {
     "name": "stdout",
     "output_type": "stream",
     "text": [
      "[30, 45, 10, 120, 15]\n"
     ]
    }
   ],
   "source": [
    "def splitArray(l,sindex):\n",
    "    newLst1 = [ l[i] for i in range(0,sindex+1)]\n",
    "    newLst2 = [ l[i] for i in range(sindex+1,len(lst))]\n",
    "    return newLst2 + newLst1\n",
    "\n",
    "lst = [10,120,15,30,45]\n",
    "result = splitArray(lst,2)\n",
    "print(result)\n"
   ]
  },
  {
   "cell_type": "markdown",
   "id": "aa375779",
   "metadata": {},
   "source": [
    "--------------\n",
    "### 5. Write a Python Program to check if given array is Monotonic?"
   ]
  },
  {
   "cell_type": "code",
   "execution_count": 17,
   "id": "725c2a5a",
   "metadata": {},
   "outputs": [
    {
     "name": "stdout",
     "output_type": "stream",
     "text": [
      "Array is not monotonic\n"
     ]
    }
   ],
   "source": [
    "def checkMontonic(arr):\n",
    "    n = len(arr)\n",
    "    inc = True\n",
    "    dec = True\n",
    "\n",
    "    #Check if increasing\n",
    "    for i in range (0,n-1):\n",
    "        if (lst[i] > lst[i+1]):\n",
    "            inc = False\n",
    "    \n",
    "    #Check if decreasing\n",
    "    for i in range (0,n-1):\n",
    "        if (lst[i] < lst[i+1]):\n",
    "            dec = False\n",
    "            \n",
    "    return inc or dec\n",
    "    \n",
    "lst = [1,2,3,9,5,6]\n",
    "result = checkMontonic(lst)\n",
    "\n",
    "if(result == True):\n",
    "    print('Array is monotonic')\n",
    "else:\n",
    "    print('Array is not monotonic')\n",
    "\n",
    "\n",
    "\n",
    "\n",
    "                        "
   ]
  }
 ],
 "metadata": {
  "kernelspec": {
   "display_name": "Python 3 (ipykernel)",
   "language": "python",
   "name": "python3"
  },
  "language_info": {
   "codemirror_mode": {
    "name": "ipython",
    "version": 3
   },
   "file_extension": ".py",
   "mimetype": "text/x-python",
   "name": "python",
   "nbconvert_exporter": "python",
   "pygments_lexer": "ipython3",
   "version": "3.10.6"
  }
 },
 "nbformat": 4,
 "nbformat_minor": 5
}
