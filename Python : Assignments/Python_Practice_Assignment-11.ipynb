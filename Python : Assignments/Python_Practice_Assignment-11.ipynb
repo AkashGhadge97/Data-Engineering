{
 "cells": [
  {
   "cell_type": "markdown",
   "id": "53c7e882",
   "metadata": {},
   "source": [
    "# Python Basic Programming Assignment 11\n",
    "--------------------"
   ]
  },
  {
   "cell_type": "markdown",
   "id": "051da140",
   "metadata": {},
   "source": [
    "### 1. Write a Python program to find words which are greater than given length k?"
   ]
  },
  {
   "cell_type": "code",
   "execution_count": 1,
   "id": "7d34576a",
   "metadata": {},
   "outputs": [
    {
     "name": "stdin",
     "output_type": "stream",
     "text": [
      "Enter the length: 3\n"
     ]
    },
    {
     "name": "stdout",
     "output_type": "stream",
     "text": [
      "['Play', 'Guitar', 'Cricket', 'Love', 'Four']\n"
     ]
    }
   ],
   "source": [
    "lst = ['Don','Play','Guitar','Cricket','Love','Ten','Four','It','get']\n",
    "num = int(input('Enter the length:'))\n",
    "newLst=[]\n",
    "for i in lst:\n",
    "    if (len(i) > num):\n",
    "        newLst.append(i)\n",
    "print(newLst)"
   ]
  },
  {
   "cell_type": "markdown",
   "id": "26719cbd",
   "metadata": {},
   "source": [
    "### 2. Write a Python program for removing i-th character from a string?"
   ]
  },
  {
   "cell_type": "code",
   "execution_count": 4,
   "id": "3425ccc2",
   "metadata": {},
   "outputs": [
    {
     "name": "stdin",
     "output_type": "stream",
     "text": [
      "Enter the character index: 2\n"
     ]
    },
    {
     "name": "stdout",
     "output_type": "stream",
     "text": [
      "Gutar\n"
     ]
    }
   ],
   "source": [
    "string = \"Guitar\"\n",
    "num = int(input('Enter the character index:'))\n",
    "string=string.replace(string[num],'')\n",
    "print(string)"
   ]
  },
  {
   "cell_type": "markdown",
   "id": "51ae6b0f",
   "metadata": {},
   "source": [
    "### 3. Write a Python program to split and join a string?"
   ]
  },
  {
   "cell_type": "code",
   "execution_count": 6,
   "id": "f4a55976",
   "metadata": {},
   "outputs": [
    {
     "name": "stdout",
     "output_type": "stream",
     "text": [
      "['I', 'love', 'my', 'country']\n",
      "I love my country\n"
     ]
    }
   ],
   "source": [
    "string = \"I love my country\"\n",
    "lst = string.split(' ')\n",
    "print(lst)\n",
    "print(' '.join(lst))"
   ]
  },
  {
   "cell_type": "markdown",
   "id": "59079fe1",
   "metadata": {},
   "source": [
    "### 4. Write a Python to check if a given string is binary string or not?"
   ]
  },
  {
   "cell_type": "code",
   "execution_count": 9,
   "id": "89f59702",
   "metadata": {},
   "outputs": [
    {
     "name": "stdin",
     "output_type": "stream",
     "text": [
      "Enter the string:  01010\n"
     ]
    },
    {
     "name": "stdout",
     "output_type": "stream",
     "text": [
      "Binary\n"
     ]
    }
   ],
   "source": [
    "string = input('Enter the string: ')\n",
    "binary = ['0','1']\n",
    "flag=0\n",
    "for i in string:\n",
    "    if i not in binary:\n",
    "        flag=1\n",
    "        break\n",
    "if (flag == 0):\n",
    "    print('Binary')\n",
    "else:\n",
    "    print('Not Binary')"
   ]
  },
  {
   "cell_type": "markdown",
   "id": "4d6cf11a",
   "metadata": {},
   "source": [
    "### 5. Write a Python program to find uncommon words from two Strings?"
   ]
  },
  {
   "cell_type": "code",
   "execution_count": 12,
   "id": "73bd42d1",
   "metadata": {},
   "outputs": [
    {
     "name": "stdout",
     "output_type": "stream",
     "text": [
      "['software', 'engineer', 'work', 'Pune', 'doctor', 'practice', 'Mumbai']\n"
     ]
    }
   ],
   "source": [
    "string1 = \"I am a software engineer by profession. I work at Pune\"\n",
    "string2 = \"I am a doctor by profession. I practice at Mumbai\"\n",
    "uncommon= []\n",
    "for i in string1.split(' '):\n",
    "    if i not in string2.split(' '):\n",
    "        uncommon.append(i)\n",
    "        \n",
    "for i in string2.split(' '):\n",
    "    if i not in string1.split(' '):\n",
    "        uncommon.append(i)\n",
    "\n",
    "print(uncommon)"
   ]
  },
  {
   "cell_type": "markdown",
   "id": "e2b24677",
   "metadata": {},
   "source": [
    "### 6. Write a Python to find all duplicate characters in string?"
   ]
  },
  {
   "cell_type": "code",
   "execution_count": 14,
   "id": "a410f775",
   "metadata": {},
   "outputs": [
    {
     "name": "stdout",
     "output_type": "stream",
     "text": [
      "{' ', 'o', 'y'}\n"
     ]
    }
   ],
   "source": [
    "string = 'I love my country'\n",
    "dup = []\n",
    "for i in string:\n",
    "    if (string.count(i)>1):\n",
    "        dup.append(i)\n",
    "print(set(dup))"
   ]
  },
  {
   "cell_type": "markdown",
   "id": "1a6af7e4",
   "metadata": {},
   "source": [
    "### 7. Write a Python Program to check if a string contains any special character?"
   ]
  },
  {
   "cell_type": "code",
   "execution_count": 53,
   "id": "75c1ba39",
   "metadata": {},
   "outputs": [
    {
     "name": "stdout",
     "output_type": "stream",
     "text": [
      "Enter a string: qwe*213(*(&\n",
      "Given string contains special characters\n"
     ]
    }
   ],
   "source": [
    "import re\n",
    "\n",
    "\n",
    "string = input(\"Enter a string: \")\n",
    "regex = re.compile('[@_!#$%^&*()<>?/\\|}{~:]')  \n",
    "\n",
    "if(regex.search(string) == None):\n",
    "    print(\"Given string does not contain special characters\")\n",
    "else:\n",
    "    print(\"Given string contains special characters\")"
   ]
  },
  {
   "cell_type": "code",
   "execution_count": 16,
   "id": "c263c430-e9db-4e7e-967c-67a7f833c779",
   "metadata": {},
   "outputs": [
    {
     "name": "stdin",
     "output_type": "stream",
     "text": [
      "Enter the string:  ajj#$nx\n"
     ]
    },
    {
     "name": "stdout",
     "output_type": "stream",
     "text": [
      "Given string contains special characters\n"
     ]
    }
   ],
   "source": [
    "string = input('Enter the string: ')\n",
    "characters = '[@_!#$%^&*()<>?/\\|}{~:]'\n",
    "flag=0\n",
    "for i in string:\n",
    "    if i in characters:\n",
    "        flag=1\n",
    "        break\n",
    "if (flag == 1):\n",
    "    print('Given string contains special characters')\n",
    "else:\n",
    "    print('Given string does not contains special characters')"
   ]
  }
 ],
 "metadata": {
  "kernelspec": {
   "display_name": "Python 3 (ipykernel)",
   "language": "python",
   "name": "python3"
  },
  "language_info": {
   "codemirror_mode": {
    "name": "ipython",
    "version": 3
   },
   "file_extension": ".py",
   "mimetype": "text/x-python",
   "name": "python",
   "nbconvert_exporter": "python",
   "pygments_lexer": "ipython3",
   "version": "3.10.6"
  }
 },
 "nbformat": 4,
 "nbformat_minor": 5
}
