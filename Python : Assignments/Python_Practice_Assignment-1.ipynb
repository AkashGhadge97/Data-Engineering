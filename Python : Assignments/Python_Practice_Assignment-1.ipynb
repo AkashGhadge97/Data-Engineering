{
 "cells": [
  {
   "cell_type": "markdown",
   "id": "637b47a5",
   "metadata": {},
   "source": [
    "## Programming Assignment_1\n",
    "-------------"
   ]
  },
  {
   "cell_type": "markdown",
   "id": "0c647dbe",
   "metadata": {},
   "source": [
    "### 1. Write a Python program to print \"Hello Python\"?\n",
    "##### Sol:"
   ]
  },
  {
   "cell_type": "code",
   "execution_count": 1,
   "id": "732cbadd",
   "metadata": {},
   "outputs": [
    {
     "name": "stdout",
     "output_type": "stream",
     "text": [
      "Hello Python\n"
     ]
    }
   ],
   "source": [
    "print(\"Hello Python\")"
   ]
  },
  {
   "cell_type": "markdown",
   "id": "fc18a6cd",
   "metadata": {},
   "source": [
    "### 2. Write a Python program to do arithmetical operations addition and division.?\n",
    "##### Sol:"
   ]
  },
  {
   "cell_type": "code",
   "execution_count": 2,
   "id": "d5e81491",
   "metadata": {},
   "outputs": [
    {
     "name": "stdout",
     "output_type": "stream",
     "text": [
      "Addition :  12 \n",
      "Division :  5.0\n"
     ]
    }
   ],
   "source": [
    "a = 10\n",
    "b= 2\n",
    "\n",
    "print(\"Addition : \",a+b, \"\\nDivision : \",  a/b)"
   ]
  },
  {
   "cell_type": "markdown",
   "id": "af6e2429",
   "metadata": {},
   "source": [
    "### 3. Write a Python program to find the area of a triangle?\n",
    "##### Sol:"
   ]
  },
  {
   "cell_type": "code",
   "execution_count": 3,
   "id": "d5d93846",
   "metadata": {},
   "outputs": [
    {
     "name": "stdout",
     "output_type": "stream",
     "text": [
      "Area Of Traingle :  100.0\n"
     ]
    }
   ],
   "source": [
    "base = 20\n",
    "height = 10\n",
    "areaOfTraingle = (0.5)*base*height\n",
    "print(\"Area Of Traingle : \", areaOfTraingle)"
   ]
  },
  {
   "cell_type": "markdown",
   "id": "b8140061",
   "metadata": {},
   "source": [
    "### 4. Write a Python program to swap two variables?\n",
    "##### Sol:"
   ]
  },
  {
   "cell_type": "code",
   "execution_count": 6,
   "id": "182608ba",
   "metadata": {},
   "outputs": [
    {
     "name": "stdout",
     "output_type": "stream",
     "text": [
      "Before Swapping :\n",
      "var1 :  10   var2: 30\n",
      "\n",
      "\n",
      "After Swapping :\n",
      "var1 :  30   var2: 10\n"
     ]
    }
   ],
   "source": [
    "var1 = 10 \n",
    "var2 = 30\n",
    "\n",
    "print(\"Before Swapping :\\nvar1 : \",var1,\"  var2:\",var2)\n",
    "\n",
    "temp = var1\n",
    "var1 = var2\n",
    "var2 = temp\n",
    "\n",
    "print(\"\\n\\nAfter Swapping :\\nvar1 : \",var1,\"  var2:\",var2)"
   ]
  },
  {
   "cell_type": "markdown",
   "id": "3f8054c1",
   "metadata": {},
   "source": [
    "### 5. Write a Python program to generate a random number?\n",
    "##### Sol:"
   ]
  },
  {
   "cell_type": "code",
   "execution_count": 26,
   "id": "f1e76df9",
   "metadata": {},
   "outputs": [
    {
     "name": "stdout",
     "output_type": "stream",
     "text": [
      "56\n"
     ]
    }
   ],
   "source": [
    "import random\n",
    "import math\n",
    "print(math.ceil(random.random()*100))"
   ]
  },
  {
   "cell_type": "code",
   "execution_count": null,
   "id": "3ab18c00",
   "metadata": {},
   "outputs": [],
   "source": []
  },
  {
   "cell_type": "code",
   "execution_count": null,
   "id": "b3116b93-9c78-4e22-9511-3e8d9a2091c2",
   "metadata": {},
   "outputs": [],
   "source": []
  }
 ],
 "metadata": {
  "kernelspec": {
   "display_name": "Python 3 (ipykernel)",
   "language": "python",
   "name": "python3"
  },
  "language_info": {
   "codemirror_mode": {
    "name": "ipython",
    "version": 3
   },
   "file_extension": ".py",
   "mimetype": "text/x-python",
   "name": "python",
   "nbconvert_exporter": "python",
   "pygments_lexer": "ipython3",
   "version": "3.10.6"
  }
 },
 "nbformat": 4,
 "nbformat_minor": 5
}
