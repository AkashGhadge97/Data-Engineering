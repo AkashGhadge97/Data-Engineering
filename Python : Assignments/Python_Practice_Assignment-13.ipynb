{
 "cells": [
  {
   "cell_type": "markdown",
   "id": "62fd0c8e",
   "metadata": {},
   "source": [
    "# Python Programming Basic Assignment 13"
   ]
  },
  {
   "cell_type": "markdown",
   "id": "ed4a3c0b",
   "metadata": {},
   "source": [
    "\n",
    "### 1. Write a program that calculates and prints the value according to the given formula:\n",
    "Q = Square root of [(2 C D)/H]\n",
    "\n",
    "Following are the fixed values of C and H:\n",
    "\n",
    "C is 50. H is 30.\n",
    "\n",
    "D is the variable whose values should be input to your program in a comma-separated sequence.\n",
    "\n",
    "Example\n",
    "\n",
    "Let us assume the following comma separated input sequence is given to the program:\n",
    "\n",
    "100,150,180\n",
    "\n",
    "The output of the program should be:\n",
    "\n",
    "18,22,24"
   ]
  },
  {
   "cell_type": "code",
   "execution_count": 8,
   "id": "96b47837",
   "metadata": {},
   "outputs": [
    {
     "name": "stdin",
     "output_type": "stream",
     "text": [
      "Enter the comma seperated values for D : 100,150,180\n"
     ]
    },
    {
     "name": "stdout",
     "output_type": "stream",
     "text": [
      "[18, 22, 24]\n"
     ]
    }
   ],
   "source": [
    "import math\n",
    "\n",
    "def calculateEquation(dvalues):\n",
    "    c= 50\n",
    "    h = 30\n",
    "    result=[]\n",
    "    for d in dvalues:\n",
    "        result.append(int(math.sqrt(2*c*int(d)/h)))\n",
    "    print(result)\n",
    "\n",
    "dvalues = list(input('Enter the comma seperated values for D :').split(','))\n",
    "calculateEquation(dvalues)"
   ]
  },
  {
   "cell_type": "markdown",
   "id": "ed37b6ed",
   "metadata": {},
   "source": [
    "### 2. Write a program which takes 2 digits, X,Y as input and generates a 2-dimensional array. The element value in the i-th row and j-th column of the array should be i*j."
   ]
  },
  {
   "cell_type": "code",
   "execution_count": 9,
   "id": "09beaed7",
   "metadata": {},
   "outputs": [
    {
     "name": "stdin",
     "output_type": "stream",
     "text": [
      "Enter the value of  X : 3\n",
      "Enter the value of  Y : 5\n"
     ]
    },
    {
     "name": "stdout",
     "output_type": "stream",
     "text": [
      "[[0, 0, 0, 0, 0], [0, 1, 2, 3, 4], [0, 2, 4, 6, 8]]\n"
     ]
    }
   ],
   "source": [
    "X  = int(input('Enter the value of  X :'))\n",
    "Y  = int(input('Enter the value of  Y :'))\n",
    "mat=[]\n",
    "for i in range(X):\n",
    "    row=[]\n",
    "    for j in range(Y):\n",
    "        row.append(i*j)\n",
    "    mat.append(row)\n",
    "print(mat)\n",
    "    "
   ]
  },
  {
   "cell_type": "markdown",
   "id": "bc7f977b",
   "metadata": {},
   "source": [
    "### 3. Write a program that accepts a comma separated sequence of words as input and prints the words in a comma-separated sequence after sorting them alphabetically."
   ]
  },
  {
   "cell_type": "code",
   "execution_count": 11,
   "id": "9122174d",
   "metadata": {},
   "outputs": [
    {
     "name": "stdin",
     "output_type": "stream",
     "text": [
      "Enter tye comma seperated words tab,bat,cap,cat\n"
     ]
    },
    {
     "name": "stdout",
     "output_type": "stream",
     "text": [
      "['bat', 'cap', 'cat', 'tab']\n"
     ]
    }
   ],
   "source": [
    "words_list = list(input('Enter tye comma seperated words').split(','))\n",
    "words_list.sort()\n",
    "print(words_list)"
   ]
  },
  {
   "cell_type": "markdown",
   "id": "171c3d90",
   "metadata": {},
   "source": [
    "### 4. Write a program that accepts a sequence of whitespace separated words as input and prints the words after removing all duplicate words and sorting them alphanumerically."
   ]
  },
  {
   "cell_type": "code",
   "execution_count": null,
   "id": "6f0b4beb",
   "metadata": {},
   "outputs": [
    {
     "name": "stdin",
     "output_type": "stream",
     "text": [
      "Enter tye comma seperated words hello again we us mat cat mat cat we us again\n"
     ]
    },
    {
     "name": "stdout",
     "output_type": "stream",
     "text": [
      "again cat hello mat us we\n"
     ]
    }
   ],
   "source": [
    "words_list = list(set(input('Enter tye comma seperated words').split(' ')))\n",
    "words_list.sort()\n",
    "print(' '.join(words))"
   ]
  },
  {
   "cell_type": "markdown",
   "id": "88d25c49",
   "metadata": {},
   "source": [
    "### 5. Write a program that accepts a sentence and calculate the number of letters and digits."
   ]
  },
  {
   "cell_type": "code",
   "execution_count": 18,
   "id": "9af8334f",
   "metadata": {},
   "outputs": [
    {
     "name": "stdout",
     "output_type": "stream",
     "text": [
      "Enter a sentence: hello world! 123\n",
      "LETTERS 10\n",
      "DIGITS 3\n"
     ]
    }
   ],
   "source": [
    "words = input(\"Enter a sentence: \")\n",
    "letters = 0\n",
    "digits = 0\n",
    "for c in words:\n",
    "    if (ord(c) >= ord('a') and ord(c) <= ord('z')) or (ord(c) >= ord('A') and ord(c) <= ord('Z')):\n",
    "        letters += 1\n",
    "    elif ord(c) >= ord('0') and ord(c) <= ord('9'):\n",
    "        digits += 1\n",
    "print(\"LETTERS {}\".format(letters))\n",
    "print(\"DIGITS {}\".format(digits))"
   ]
  },
  {
   "cell_type": "markdown",
   "id": "9695c4ca",
   "metadata": {},
   "source": [
    "### 6. A website requires the users to input username and password to register. Write a program to check the validity of password input by users."
   ]
  },
  {
   "cell_type": "code",
   "execution_count": 17,
   "id": "b7e80d04",
   "metadata": {},
   "outputs": [
    {
     "name": "stdin",
     "output_type": "stream",
     "text": [
      "Enter comma seperated list of passwords : 1234,ams23,Ams@34,Mah34@,ahdjb\n"
     ]
    },
    {
     "name": "stdout",
     "output_type": "stream",
     "text": [
      "['Ams@34', 'Mah34@']\n"
     ]
    }
   ],
   "source": [
    "def checkSmallercase(pwd):\n",
    "    check = False\n",
    "    for i in pwd:\n",
    "        if(ord(i) >= ord('a') and ord(i) <= ord('z')):\n",
    "            check = True\n",
    "            break\n",
    "    return check\n",
    "\n",
    "def checkUppercase(pwd):\n",
    "    check = False\n",
    "    for i in pwd:\n",
    "        if(ord(i) >= ord('A') and ord(i) <= ord('Z')):\n",
    "            check = True\n",
    "            break\n",
    "    return check\n",
    "\n",
    "def checkDigit(pwd):\n",
    "    check = False\n",
    "    for i in pwd:\n",
    "        if(ord(i) >= ord('0') and ord(i) <= ord('9')):\n",
    "            check = True\n",
    "            break\n",
    "    return check\n",
    "\n",
    "def checkSpecialCharacters(pwd):\n",
    "    check = False\n",
    "    chars = '@#$%&()!+-_;:<>`?/\\='\n",
    "    for i in pwd:\n",
    "        if(i in chars):\n",
    "            check = True\n",
    "            break\n",
    "    return check\n",
    "\n",
    "def checkMinLength(pwd):\n",
    "    return len(pwd) >= 6\n",
    "\n",
    "def checkMaxLength(pwd):\n",
    "    return len(pwd) <=12\n",
    "\n",
    "password_list = list(set(input('Enter comma seperated list of passwords :').split(',')))\n",
    "valid_passwords=[]\n",
    "for i in password_list:\n",
    "    if checkSmallercase(i) and checkUppercase(i) and checkDigit(i) and checkSpecialCharacters(i) and checkMinLength(i) and checkMaxLength(i):\n",
    "        valid_passwords.append(i)\n",
    "print(valid_passwords)"
   ]
  }
 ],
 "metadata": {
  "kernelspec": {
   "display_name": "Python 3 (ipykernel)",
   "language": "python",
   "name": "python3"
  },
  "language_info": {
   "codemirror_mode": {
    "name": "ipython",
    "version": 3
   },
   "file_extension": ".py",
   "mimetype": "text/x-python",
   "name": "python",
   "nbconvert_exporter": "python",
   "pygments_lexer": "ipython3",
   "version": "3.10.6"
  }
 },
 "nbformat": 4,
 "nbformat_minor": 5
}
