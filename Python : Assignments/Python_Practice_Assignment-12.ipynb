{
 "cells": [
  {
   "cell_type": "markdown",
   "id": "b7231b20",
   "metadata": {},
   "source": [
    "# Python Basic Programming Assignment 12\n",
    "-------------"
   ]
  },
  {
   "cell_type": "markdown",
   "id": "d2ec324d",
   "metadata": {},
   "source": [
    "### 1. Write a Python program to Extract Unique values dictionary values?"
   ]
  },
  {
   "cell_type": "code",
   "execution_count": 4,
   "id": "4b68b3c7",
   "metadata": {},
   "outputs": [
    {
     "name": "stdout",
     "output_type": "stream",
     "text": [
      "{'1', '3', '6'}\n"
     ]
    }
   ],
   "source": [
    "dict1= {1 : '1', 2 : '1', 3 : '3', 4: '3', 5 : '6'}\n",
    "unique_values = {i for i in dict1.values()}\n",
    "print(unique_values)"
   ]
  },
  {
   "cell_type": "markdown",
   "id": "203bcbc3",
   "metadata": {},
   "source": [
    "### 2. Write a Python program to find the sum of all items in a dictionary?"
   ]
  },
  {
   "cell_type": "code",
   "execution_count": 7,
   "id": "efc08e0d",
   "metadata": {},
   "outputs": [
    {
     "name": "stdout",
     "output_type": "stream",
     "text": [
      "Sum : 918\n"
     ]
    }
   ],
   "source": [
    "dict1 = {'i1': 324, 'i2' :  335 , 'i3' : 89, 'i4' : 80 , 'i5' : 90 }\n",
    "print(\"Sum :\",sum(dict1.values()))"
   ]
  },
  {
   "cell_type": "markdown",
   "id": "edfbc682",
   "metadata": {},
   "source": [
    "### 3. Write a Python program to Merging two Dictionaries?"
   ]
  },
  {
   "cell_type": "code",
   "execution_count": 10,
   "id": "7cf2eb9f",
   "metadata": {},
   "outputs": [
    {
     "name": "stdout",
     "output_type": "stream",
     "text": [
      "{1: 'One', 2: 'Two', 3: 'Three', 4: 'Four', 8: 'Eight', 9: 'Nine'}\n"
     ]
    }
   ],
   "source": [
    "dict1 = {1 : 'One', 2 : 'Two', 3 : 'Three', 4 : 'Four'}\n",
    "dict2 = {2 : 'Two', 3 : 'Three', 8 : 'Eight', 9 : 'Nine'}\n",
    "\n",
    "for item in dict2.items():\n",
    "    dict1.setdefault(item[0],item[1])\n",
    "print(dict1)"
   ]
  },
  {
   "cell_type": "markdown",
   "id": "62eaf687",
   "metadata": {},
   "source": [
    "### 4. Write a Python program to convert key-values list to flat dictionary?"
   ]
  },
  {
   "cell_type": "code",
   "execution_count": 12,
   "id": "8902c328",
   "metadata": {},
   "outputs": [
    {
     "name": "stdout",
     "output_type": "stream",
     "text": [
      "{1: 'Jan', 2: 'Feb', 3: 'March'}\n"
     ]
    }
   ],
   "source": [
    "test_dict = {'month' : [1, 2, 3], 'name' : ['Jan', 'Feb', 'March']}\n",
    "op_dict = dict(zip(test_dict['month'], test_dict['name']))\n",
    "print(op_dict)"
   ]
  },
  {
   "cell_type": "markdown",
   "id": "fcc5015f",
   "metadata": {},
   "source": [
    "### 5. Write a Python program to insertion at the beginning in OrderedDict?"
   ]
  },
  {
   "cell_type": "code",
   "execution_count": 8,
   "id": "2f4387f5",
   "metadata": {},
   "outputs": [
    {
     "name": "stdout",
     "output_type": "stream",
     "text": [
      "OrderedDict([('Jan', 1), ('Feb', 2), ('March', 3)])\n"
     ]
    }
   ],
   "source": [
    "from collections import OrderedDict\n",
    "\n",
    "initialize_ordered_dict =  OrderedDict([('Feb',2), ('March',3)])\n",
    "\n",
    "initialize_ordered_dict.update({'Jan': 1})\n",
    "initialize_ordered_dict.move_to_end('Jan', last = False)\n",
    "print(str(initialize_ordered_dict))"
   ]
  },
  {
   "cell_type": "markdown",
   "id": "5978c9ab",
   "metadata": {},
   "source": [
    "### 6. Write a Python program to check order of character in string using OrderedDict()?"
   ]
  },
  {
   "cell_type": "code",
   "execution_count": 20,
   "id": "9514e78e",
   "metadata": {},
   "outputs": [
    {
     "name": "stdin",
     "output_type": "stream",
     "text": [
      "Enter String: program\n",
      "Enter Pattern: rog\n"
     ]
    },
    {
     "name": "stdout",
     "output_type": "stream",
     "text": [
      "Pattern Matched\n"
     ]
    }
   ],
   "source": [
    "from collections import OrderedDict\n",
    "\n",
    "def checkOrder(istr,pat):\n",
    "    newDict = OrderedDict.fromkeys(istr)\n",
    "    plen=0\n",
    "    \n",
    "    for key,value in newDict.items():\n",
    "        \n",
    "        if (key == pat[plen]):\n",
    "            plen+=1\n",
    "            \n",
    "        if(plen == (len(pat))):\n",
    "            return 'true'\n",
    "    return 'false'\n",
    "\n",
    "input_str = input('Enter String:')\n",
    "pattern = input('Enter Pattern:')\n",
    "\n",
    "if checkOrder(input_str,pattern) :\n",
    "    print('Pattern Matched')\n",
    "else:\n",
    "    print('Pattern Not Matched')"
   ]
  },
  {
   "cell_type": "markdown",
   "id": "f330da77",
   "metadata": {},
   "source": [
    "### 7. Write a Python program to sort Python Dictionaries by Key or Value?"
   ]
  },
  {
   "cell_type": "code",
   "execution_count": 23,
   "id": "d80e3014",
   "metadata": {},
   "outputs": [
    {
     "name": "stdout",
     "output_type": "stream",
     "text": [
      "['1', '3', '7', 'a', 'b', 'z']\n",
      "[1, 3, 4, 7, 8, 8]\n",
      "[('1', 1), ('3', 3), ('7', 7), ('a', 4), ('b', 8), ('z', 8)]\n"
     ]
    }
   ],
   "source": [
    "newDict = {'1':1, '3': 3 , 'a' : 4, 'b' : 8 ,'z' : 8 , '7': 7}\n",
    "\n",
    "print(sorted(newDict.keys()))\n",
    "print(sorted(newDict.values()))\n",
    "print(sorted(newDict.items()))"
   ]
  },
  {
   "cell_type": "code",
   "execution_count": null,
   "id": "e4ff7e34",
   "metadata": {},
   "outputs": [],
   "source": []
  }
 ],
 "metadata": {
  "kernelspec": {
   "display_name": "Python 3 (ipykernel)",
   "language": "python",
   "name": "python3"
  },
  "language_info": {
   "codemirror_mode": {
    "name": "ipython",
    "version": 3
   },
   "file_extension": ".py",
   "mimetype": "text/x-python",
   "name": "python",
   "nbconvert_exporter": "python",
   "pygments_lexer": "ipython3",
   "version": "3.10.6"
  }
 },
 "nbformat": 4,
 "nbformat_minor": 5
}
