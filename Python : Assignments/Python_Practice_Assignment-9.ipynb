{
 "cells": [
  {
   "cell_type": "markdown",
   "id": "47b9bb99",
   "metadata": {},
   "source": [
    "## Programming Assignment_9\n",
    "----------------"
   ]
  },
  {
   "cell_type": "markdown",
   "id": "c725f7a9",
   "metadata": {},
   "source": [
    "### 1. Write a Python program to check if the given number is a Disarium Number?\n",
    "##### ans:"
   ]
  },
  {
   "cell_type": "code",
   "execution_count": 26,
   "id": "00495e5f",
   "metadata": {},
   "outputs": [
    {
     "name": "stdin",
     "output_type": "stream",
     "text": [
      "Enter a number : 89\n"
     ]
    },
    {
     "name": "stdout",
     "output_type": "stream",
     "text": [
      "89  is a Disarium Number\n"
     ]
    }
   ],
   "source": [
    "def checkDisarium(num):\n",
    "    numList = [int(i) for i in num]\n",
    "    sum = 0\n",
    "    for i in range(0,len(numList)):\n",
    "        sum = sum + (numList[i]**(i+1))\n",
    "    if(sum == int(num)):\n",
    "        return True\n",
    "    else:\n",
    "        return False\n",
    "num =  input('Enter a number :')\n",
    "result = checkDisarium(num)\n",
    "if(result == True):\n",
    "    print(num , ' is a Disarium Number')\n",
    "else:\n",
    "    print(num , ' is not a Disarium Number')"
   ]
  },
  {
   "cell_type": "markdown",
   "id": "f0064401",
   "metadata": {},
   "source": [
    "---------------------------\n",
    "### 2. Write a Python program to print all disarium numbers between 1 to 100?\n",
    "##### ans:"
   ]
  },
  {
   "cell_type": "code",
   "execution_count": 28,
   "id": "78e6ba38",
   "metadata": {},
   "outputs": [
    {
     "name": "stdout",
     "output_type": "stream",
     "text": [
      "1 2 3 4 5 6 7 8 9 89 "
     ]
    }
   ],
   "source": [
    "for i in range(1,101):\n",
    "    if(checkDisarium(str(i)) == True):\n",
    "        print(i, end = ' ')"
   ]
  },
  {
   "cell_type": "markdown",
   "id": "31df1e4a",
   "metadata": {},
   "source": [
    "---------------------------\n",
    "### 3. Write a Python program to check if the given number is Happy Number?\n",
    "##### ans:"
   ]
  },
  {
   "cell_type": "code",
   "execution_count": 4,
   "id": "c274693d",
   "metadata": {},
   "outputs": [
    {
     "name": "stdin",
     "output_type": "stream",
     "text": [
      "Enter a number: 14\n"
     ]
    },
    {
     "name": "stdout",
     "output_type": "stream",
     "text": [
      "14 is not a Happy Nummber\n"
     ]
    }
   ],
   "source": [
    "def isHappyNumber(num):\n",
    "    numList = [int(i) for i in num]\n",
    "    sum = 0\n",
    "    for i in range(0,len(numList)):\n",
    "        sum = sum + (numList[i]**2)\n",
    "    return sum\n",
    "\n",
    "num =  input('Enter a number:')\n",
    "result = isHappyNumber(num)\n",
    "\n",
    "while(result!=1 and result!=4):\n",
    "    result = isHappyNumber(str(result))\n",
    "\n",
    "if(result == 1):\n",
    "    print(num, 'is a Happy Nummber')\n",
    "elif(result == 4):\n",
    "    print(num, 'is not a Happy Nummber')\n"
   ]
  },
  {
   "cell_type": "markdown",
   "id": "51b265e3",
   "metadata": {},
   "source": [
    "---------------------------\n",
    "### 4. Write a Python program to print all happy numbers between 1 and 100?\n",
    "##### ans:"
   ]
  },
  {
   "cell_type": "code",
   "execution_count": 6,
   "id": "dd776994",
   "metadata": {},
   "outputs": [
    {
     "ename": "TypeError",
     "evalue": "'int' object is not iterable",
     "output_type": "error",
     "traceback": [
      "\u001b[0;31m---------------------------------------------------------------------------\u001b[0m",
      "\u001b[0;31mTypeError\u001b[0m                                 Traceback (most recent call last)",
      "Cell \u001b[0;32mIn [6], line 2\u001b[0m\n\u001b[1;32m      1\u001b[0m \u001b[38;5;28;01mfor\u001b[39;00m i \u001b[38;5;129;01min\u001b[39;00m \u001b[38;5;28mrange\u001b[39m(\u001b[38;5;241m1\u001b[39m,\u001b[38;5;241m101\u001b[39m):\n\u001b[0;32m----> 2\u001b[0m     result \u001b[38;5;241m=\u001b[39m  \u001b[43misHappyNumber\u001b[49m\u001b[43m(\u001b[49m\u001b[43mi\u001b[49m\u001b[43m)\u001b[49m\n\u001b[1;32m      3\u001b[0m     \u001b[38;5;28;01mwhile\u001b[39;00m(result\u001b[38;5;241m!=\u001b[39m\u001b[38;5;241m1\u001b[39m \u001b[38;5;129;01mand\u001b[39;00m result\u001b[38;5;241m!=\u001b[39m\u001b[38;5;241m4\u001b[39m):\n\u001b[1;32m      4\u001b[0m         result \u001b[38;5;241m=\u001b[39m isHappyNumber(\u001b[38;5;28mstr\u001b[39m(result))\n",
      "Cell \u001b[0;32mIn [4], line 2\u001b[0m, in \u001b[0;36misHappyNumber\u001b[0;34m(num)\u001b[0m\n\u001b[1;32m      1\u001b[0m \u001b[38;5;28;01mdef\u001b[39;00m \u001b[38;5;21misHappyNumber\u001b[39m(num):\n\u001b[0;32m----> 2\u001b[0m     numList \u001b[38;5;241m=\u001b[39m [\u001b[38;5;28mint\u001b[39m(i) \u001b[38;5;28;01mfor\u001b[39;00m i \u001b[38;5;129;01min\u001b[39;00m num]\n\u001b[1;32m      3\u001b[0m     \u001b[38;5;28msum\u001b[39m \u001b[38;5;241m=\u001b[39m \u001b[38;5;241m0\u001b[39m\n\u001b[1;32m      4\u001b[0m     \u001b[38;5;28;01mfor\u001b[39;00m i \u001b[38;5;129;01min\u001b[39;00m \u001b[38;5;28mrange\u001b[39m(\u001b[38;5;241m0\u001b[39m,\u001b[38;5;28mlen\u001b[39m(numList)):\n",
      "\u001b[0;31mTypeError\u001b[0m: 'int' object is not iterable"
     ]
    }
   ],
   "source": [
    "for i in range(1,101):\n",
    "    result =  isHappyNumber(i)\n",
    "    while(result!=1 and result!=4):\n",
    "        result = isHappyNumber(str(result))\n",
    "\n",
    "    if(result == 1):\n",
    "        print(i,end= ' ')"
   ]
  },
  {
   "cell_type": "markdown",
   "id": "6a190ee0",
   "metadata": {},
   "source": [
    "---------------------------\n",
    "### 5. Write a Python program to determine whether the given number is a Harshad Number?\n",
    "##### ans:"
   ]
  },
  {
   "cell_type": "code",
   "execution_count": 33,
   "id": "9a8d5472",
   "metadata": {},
   "outputs": [
    {
     "name": "stdin",
     "output_type": "stream",
     "text": [
      "Enter a number : 13\n"
     ]
    },
    {
     "name": "stdout",
     "output_type": "stream",
     "text": [
      "13  is not a Harshad Number\n"
     ]
    }
   ],
   "source": [
    "def checkHarshad(num):\n",
    "    numList = [int(i) for i in num]\n",
    "    sum = 0\n",
    "    for i in numList:\n",
    "        sum = sum + i\n",
    "    if(int(num) % sum == 0):\n",
    "        return True\n",
    "    else:\n",
    "        return False\n",
    "num =  input('Enter a number :')\n",
    "result = checkHarshad(num)\n",
    "if(result == True):\n",
    "    print(num , ' is a Harshad Number')\n",
    "else:\n",
    "    print(num , ' is not a Harshad Number')"
   ]
  },
  {
   "cell_type": "markdown",
   "id": "7a7ea92e",
   "metadata": {},
   "source": [
    "---------------------------\n",
    "### 6. Write a Python program to print all pronic numbers between 1 and 100?\n",
    "##### ans:"
   ]
  },
  {
   "cell_type": "code",
   "execution_count": 47,
   "id": "936ca4b3",
   "metadata": {},
   "outputs": [
    {
     "name": "stdout",
     "output_type": "stream",
     "text": [
      "2 6 12 20 30 42 56 72 90 "
     ]
    }
   ],
   "source": [
    "import math\n",
    "for i in range(1,101):\n",
    "    j=1\n",
    "    while(j <= (int)(math.sqrt(i)) ):\n",
    "        if( i == (j * (j+1))):\n",
    "            print(i,end=' ')\n",
    "        j = j+1"
   ]
  }
 ],
 "metadata": {
  "kernelspec": {
   "display_name": "Python 3 (ipykernel)",
   "language": "python",
   "name": "python3"
  },
  "language_info": {
   "codemirror_mode": {
    "name": "ipython",
    "version": 3
   },
   "file_extension": ".py",
   "mimetype": "text/x-python",
   "name": "python",
   "nbconvert_exporter": "python",
   "pygments_lexer": "ipython3",
   "version": "3.10.6"
  }
 },
 "nbformat": 4,
 "nbformat_minor": 5
}
