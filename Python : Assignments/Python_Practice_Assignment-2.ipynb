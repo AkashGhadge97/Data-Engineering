{
 "cells": [
  {
   "cell_type": "markdown",
   "id": "08c66ea5",
   "metadata": {},
   "source": [
    "## Programming Assignment_2\n",
    "-------------"
   ]
  },
  {
   "cell_type": "markdown",
   "id": "4e50cf42",
   "metadata": {},
   "source": [
    "### 1. Write a Python program to convert kilometers to miles?\n",
    "##### Sol."
   ]
  },
  {
   "cell_type": "code",
   "execution_count": 3,
   "id": "8d5eb295",
   "metadata": {},
   "outputs": [
    {
     "name": "stdout",
     "output_type": "stream",
     "text": [
      "20 kms =  12.430080795525171 miles\n"
     ]
    }
   ],
   "source": [
    "kms = 20\n",
    "miles  = kms / 1.609\n",
    "print(kms, \"kms = \" , miles, \"miles\")"
   ]
  },
  {
   "cell_type": "markdown",
   "id": "0df4e6bf",
   "metadata": {},
   "source": [
    "### 2.Write a Python program to convert Celsius to Fahrenheit?\n",
    "##### Sol."
   ]
  },
  {
   "cell_type": "code",
   "execution_count": 5,
   "id": "b26052b8",
   "metadata": {},
   "outputs": [
    {
     "name": "stdout",
     "output_type": "stream",
     "text": [
      "40 Celsius =  104.0 Fahrenheit\n"
     ]
    }
   ],
   "source": [
    "celsius =  40\n",
    "fahrenheit = (celsius * 1.8) + 32\n",
    "print(celsius, \"Celsius = \",fahrenheit, \"Fahrenheit\")"
   ]
  },
  {
   "cell_type": "markdown",
   "id": "46129b8e",
   "metadata": {},
   "source": [
    "### 3. Write a Python program to display calendar?\n",
    "##### Sol."
   ]
  },
  {
   "cell_type": "code",
   "execution_count": 18,
   "id": "57b648c9",
   "metadata": {},
   "outputs": [
    {
     "name": "stdout",
     "output_type": "stream",
     "text": [
      "                                  2023\n",
      "\n",
      "      January                   February                   March\n",
      "Mo Tu We Th Fr Sa Su      Mo Tu We Th Fr Sa Su      Mo Tu We Th Fr Sa Su\n",
      "                   1             1  2  3  4  5             1  2  3  4  5\n",
      " 2  3  4  5  6  7  8       6  7  8  9 10 11 12       6  7  8  9 10 11 12\n",
      " 9 10 11 12 13 14 15      13 14 15 16 17 18 19      13 14 15 16 17 18 19\n",
      "16 17 18 19 20 21 22      20 21 22 23 24 25 26      20 21 22 23 24 25 26\n",
      "23 24 25 26 27 28 29      27 28                     27 28 29 30 31\n",
      "30 31\n",
      "\n",
      "       April                      May                       June\n",
      "Mo Tu We Th Fr Sa Su      Mo Tu We Th Fr Sa Su      Mo Tu We Th Fr Sa Su\n",
      "                1  2       1  2  3  4  5  6  7                1  2  3  4\n",
      " 3  4  5  6  7  8  9       8  9 10 11 12 13 14       5  6  7  8  9 10 11\n",
      "10 11 12 13 14 15 16      15 16 17 18 19 20 21      12 13 14 15 16 17 18\n",
      "17 18 19 20 21 22 23      22 23 24 25 26 27 28      19 20 21 22 23 24 25\n",
      "24 25 26 27 28 29 30      29 30 31                  26 27 28 29 30\n",
      "\n",
      "        July                     August                  September\n",
      "Mo Tu We Th Fr Sa Su      Mo Tu We Th Fr Sa Su      Mo Tu We Th Fr Sa Su\n",
      "                1  2          1  2  3  4  5  6                   1  2  3\n",
      " 3  4  5  6  7  8  9       7  8  9 10 11 12 13       4  5  6  7  8  9 10\n",
      "10 11 12 13 14 15 16      14 15 16 17 18 19 20      11 12 13 14 15 16 17\n",
      "17 18 19 20 21 22 23      21 22 23 24 25 26 27      18 19 20 21 22 23 24\n",
      "24 25 26 27 28 29 30      28 29 30 31               25 26 27 28 29 30\n",
      "31\n",
      "\n",
      "      October                   November                  December\n",
      "Mo Tu We Th Fr Sa Su      Mo Tu We Th Fr Sa Su      Mo Tu We Th Fr Sa Su\n",
      "                   1             1  2  3  4  5                   1  2  3\n",
      " 2  3  4  5  6  7  8       6  7  8  9 10 11 12       4  5  6  7  8  9 10\n",
      " 9 10 11 12 13 14 15      13 14 15 16 17 18 19      11 12 13 14 15 16 17\n",
      "16 17 18 19 20 21 22      20 21 22 23 24 25 26      18 19 20 21 22 23 24\n",
      "23 24 25 26 27 28 29      27 28 29 30               25 26 27 28 29 30 31\n",
      "30 31\n",
      "\n"
     ]
    }
   ],
   "source": [
    "import calendar\n",
    "print(calendar.calendar(2023))"
   ]
  },
  {
   "cell_type": "markdown",
   "id": "db2bf0f7",
   "metadata": {},
   "source": [
    "### 4. Write a Python program to solve quadratic equation?\n",
    "##### Sol."
   ]
  },
  {
   "cell_type": "code",
   "execution_count": 25,
   "id": "66aa2e8b",
   "metadata": {},
   "outputs": [
    {
     "name": "stdin",
     "output_type": "stream",
     "text": [
      "Enter the coefficient a: 1\n",
      "Enter the coefficient b: 5\n",
      "Enter the coefficient c: 6\n"
     ]
    },
    {
     "name": "stdout",
     "output_type": "stream",
     "text": [
      "The solutions for quadratic equation ax^2 + bx + c is (-2+0j) and (-3+0j)\n"
     ]
    }
   ],
   "source": [
    "import cmath\n",
    "\n",
    "a = int(input('Enter the coefficient a:'))\n",
    "b = int(input('Enter the coefficient b:'))\n",
    "c = int(input('Enter the coefficient c:'))\n",
    "\n",
    "sol1 =  (-b + cmath.sqrt((b*b)-(4*a*c)))/2*a\n",
    "sol2 =  (-b - cmath.sqrt((b*b)-(4*a*c)))/2*a\n",
    "\n",
    "print('The solutions for quadratic equation ax^2 + bx + c is {0} and {1}'.format( sol1,sol2))"
   ]
  },
  {
   "cell_type": "markdown",
   "id": "f70f74c9",
   "metadata": {},
   "source": [
    "### 5. Write a Python program to swap two variables without temp variable?\n",
    "##### Sol."
   ]
  },
  {
   "cell_type": "code",
   "execution_count": 29,
   "id": "58514b20",
   "metadata": {},
   "outputs": [
    {
     "name": "stdout",
     "output_type": "stream",
     "text": [
      "Before Swapping: \n",
      "var1:  67 var2: 387\n",
      "\n",
      "\n",
      "After Swapping: \n",
      "var1:  387 var2: 67\n"
     ]
    }
   ],
   "source": [
    "var1 = 67\n",
    "var2 = 387\n",
    "\n",
    "print('Before Swapping: \\nvar1: ', var1, 'var2:', var2)\n",
    "\n",
    "var1 = var1 + var2\n",
    "var2 = var1 - var2\n",
    "var1 = var1 - var2\n",
    "\n",
    "print('\\n\\nAfter Swapping: \\nvar1: ', var1, 'var2:', var2)\n"
   ]
  },
  {
   "cell_type": "code",
   "execution_count": null,
   "id": "3fbe6786",
   "metadata": {},
   "outputs": [],
   "source": []
  }
 ],
 "metadata": {
  "kernelspec": {
   "display_name": "Python 3 (ipykernel)",
   "language": "python",
   "name": "python3"
  },
  "language_info": {
   "codemirror_mode": {
    "name": "ipython",
    "version": 3
   },
   "file_extension": ".py",
   "mimetype": "text/x-python",
   "name": "python",
   "nbconvert_exporter": "python",
   "pygments_lexer": "ipython3",
   "version": "3.10.6"
  }
 },
 "nbformat": 4,
 "nbformat_minor": 5
}
